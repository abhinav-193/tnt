{
 "cells": [
  {
   "cell_type": "code",
   "execution_count": 9,
   "metadata": {},
   "outputs": [
    {
     "name": "stdout",
     "output_type": "stream",
     "text": [
      "<class 'pandas.core.frame.DataFrame'>\n",
      "RangeIndex: 205 entries, 0 to 204\n",
      "Data columns (total 26 columns):\n",
      " #   Column             Non-Null Count  Dtype  \n",
      "---  ------             --------------  -----  \n",
      " 0   symboling          205 non-null    int64  \n",
      " 1   normalized_losses  164 non-null    float64\n",
      " 2   make               205 non-null    object \n",
      " 3   fuel_type          205 non-null    object \n",
      " 4   aspiration         205 non-null    object \n",
      " 5   num_doors          203 non-null    object \n",
      " 6   body_style         205 non-null    object \n",
      " 7   drive_wheels       205 non-null    object \n",
      " 8   engine_location    205 non-null    object \n",
      " 9   wheel_base         205 non-null    float64\n",
      " 10  length             205 non-null    float64\n",
      " 11  width              205 non-null    float64\n",
      " 12  height             205 non-null    float64\n",
      " 13  curb_weight        205 non-null    int64  \n",
      " 14  engine_type        205 non-null    object \n",
      " 15  num_cylinders      205 non-null    object \n",
      " 16  engine_size        205 non-null    int64  \n",
      " 17  fuel_system        205 non-null    object \n",
      " 18  bore               201 non-null    float64\n",
      " 19  stroke             201 non-null    float64\n",
      " 20  compression_ratio  205 non-null    float64\n",
      " 21  horsepower         203 non-null    float64\n",
      " 22  peak_rpm           203 non-null    float64\n",
      " 23  city_mpg           205 non-null    int64  \n",
      " 24  highway_mpg        205 non-null    int64  \n",
      " 25  price              201 non-null    float64\n",
      "dtypes: float64(11), int64(5), object(10)\n",
      "memory usage: 41.8+ KB\n"
     ]
    }
   ],
   "source": [
    "import pandas as pd\n",
    "import matplotlib.pyplot as plt\n",
    "df=pd.read_csv('Automobile.csv')\n",
    "df.info()"
   ]
  },
  {
   "cell_type": "code",
   "execution_count": 10,
   "metadata": {},
   "outputs": [
    {
     "name": "stdout",
     "output_type": "stream",
     "text": [
      "   symboling  normalized_losses         make fuel_type aspiration num_doors  \\\n",
      "0          3                NaN  alfa-romero       gas        std       two   \n",
      "1          3                NaN  alfa-romero       gas        std       two   \n",
      "2          1                NaN  alfa-romero       gas        std       two   \n",
      "3          2              164.0         audi       gas        std      four   \n",
      "4          2              164.0         audi       gas        std      four   \n",
      "5          2                NaN         audi       gas        std       two   \n",
      "6          1              158.0         audi       gas        std      four   \n",
      "7          1                NaN         audi       gas        std      four   \n",
      "8          1              158.0         audi       gas      turbo      four   \n",
      "9          0                NaN         audi       gas      turbo       two   \n",
      "\n",
      "    body_style drive_wheels engine_location  wheel_base  ...  engine_size  \\\n",
      "0  convertible          rwd           front        88.6  ...          130   \n",
      "1  convertible          rwd           front        88.6  ...          130   \n",
      "2    hatchback          rwd           front        94.5  ...          152   \n",
      "3        sedan          fwd           front        99.8  ...          109   \n",
      "4        sedan          4wd           front        99.4  ...          136   \n",
      "5        sedan          fwd           front        99.8  ...          136   \n",
      "6        sedan          fwd           front       105.8  ...          136   \n",
      "7        wagon          fwd           front       105.8  ...          136   \n",
      "8        sedan          fwd           front       105.8  ...          131   \n",
      "9    hatchback          4wd           front        99.5  ...          131   \n",
      "\n",
      "   fuel_system  bore  stroke compression_ratio horsepower  peak_rpm city_mpg  \\\n",
      "0         mpfi  3.47    2.68               9.0      111.0    5000.0       21   \n",
      "1         mpfi  3.47    2.68               9.0      111.0    5000.0       21   \n",
      "2         mpfi  2.68    3.47               9.0      154.0    5000.0       19   \n",
      "3         mpfi  3.19    3.40              10.0      102.0    5500.0       24   \n",
      "4         mpfi  3.19    3.40               8.0      115.0    5500.0       18   \n",
      "5         mpfi  3.19    3.40               8.5      110.0    5500.0       19   \n",
      "6         mpfi  3.19    3.40               8.5      110.0    5500.0       19   \n",
      "7         mpfi  3.19    3.40               8.5      110.0    5500.0       19   \n",
      "8         mpfi  3.13    3.40               8.3      140.0    5500.0       17   \n",
      "9         mpfi  3.13    3.40               7.0      160.0    5500.0       16   \n",
      "\n",
      "   highway_mpg         price  \n",
      "0           27  13495.000000  \n",
      "1           27  16500.000000  \n",
      "2           26  16500.000000  \n",
      "3           30  13950.000000  \n",
      "4           22  17450.000000  \n",
      "5           25  15250.000000  \n",
      "6           25  17710.000000  \n",
      "7           25  18920.000000  \n",
      "8           20  23875.000000  \n",
      "9           22  13207.129353  \n",
      "\n",
      "[10 rows x 26 columns]\n"
     ]
    }
   ],
   "source": [
    "#q1 Handle the missing values for Price column\n",
    "df['price'].fillna(df['price'].mean(), inplace=True)\n",
    "print(df.head(10))"
   ]
  },
  {
   "cell_type": "code",
   "execution_count": 11,
   "metadata": {},
   "outputs": [
    {
     "name": "stdout",
     "output_type": "stream",
     "text": [
      "[13495.         16500.         16500.         13950.\n",
      " 17450.         15250.         17710.         18920.\n",
      " 23875.         13207.12935323 16430.         16925.\n",
      " 20970.         21105.         24565.         30760.\n",
      " 41315.         36880.          5151.          6295.\n",
      "  6575.          5572.          6377.          7957.\n",
      "  6229.          6692.          7609.          8558.\n",
      "  8921.         12964.          6479.          6855.\n",
      "  5399.          6529.          7129.          7295.\n",
      "  7295.          7895.          9095.          8845.\n",
      " 10295.         12945.         10345.          6785.\n",
      " 13207.12935323 13207.12935323 11048.         32250.\n",
      " 35550.         36000.          5195.          6095.\n",
      "  6795.          6695.          7395.         10945.\n",
      " 11845.         13645.         15645.          8845.\n",
      "  8495.         10595.         10245.         10795.\n",
      " 11245.         18280.         18344.         25552.\n",
      " 28248.         28176.         31600.         34184.\n",
      " 35056.         40960.         45400.         16503.\n",
      "  5389.          6189.          6669.          7689.\n",
      "  9959.          8499.         12629.         14869.\n",
      " 14489.          6989.          8189.          9279.\n",
      "  9279.          5499.          7099.          6649.\n",
      "  6849.          7349.          7299.          7799.\n",
      "  7499.          7999.          8249.          8949.\n",
      "  9549.         13499.         14399.         13499.\n",
      " 17199.         19699.         18399.         11900.\n",
      " 13200.         12440.         13860.         15580.\n",
      " 16900.         16695.         17075.         16630.\n",
      " 17950.         18150.          5572.          7957.\n",
      "  6229.          6692.          7609.          8921.\n",
      " 12764.         22018.         32528.         34028.\n",
      " 37028.         13207.12935323  9295.          9895.\n",
      " 11850.         12170.         15040.         15510.\n",
      " 18150.         18620.          5118.          7053.\n",
      "  7603.          7126.          7775.          9960.\n",
      "  9233.         11259.          7463.         10198.\n",
      "  8013.         11694.          5348.          6338.\n",
      "  6488.          6918.          7898.          8778.\n",
      "  6938.          7198.          7898.          7788.\n",
      "  7738.          8358.          9258.          8058.\n",
      "  8238.          9298.          9538.          8449.\n",
      "  9639.          9989.         11199.         11549.\n",
      " 17669.          8948.         10698.          9988.\n",
      " 10898.         11248.         16558.         15998.\n",
      " 15690.         15750.          7775.          7975.\n",
      "  7995.          8195.          8495.          9495.\n",
      "  9995.         11595.          9980.         13295.\n",
      " 13845.         12290.         12940.         13415.\n",
      " 15985.         16515.         18420.         18950.\n",
      " 16845.         19045.         21485.         22470.\n",
      " 22625.        ]\n"
     ]
    }
   ],
   "source": [
    "#q2 Get the values from Price column into a numpy.ndarray\n",
    "price_array=df['price'].values\n",
    "print(price_array)"
   ]
  },
  {
   "cell_type": "code",
   "execution_count": 12,
   "metadata": {},
   "outputs": [
    {
     "name": "stdout",
     "output_type": "stream",
     "text": [
      "5118.0\n"
     ]
    },
    {
     "data": {
      "text/plain": [
       "count      205.000000\n",
       "mean     13207.129353\n",
       "std       7868.768212\n",
       "min       5118.000000\n",
       "25%       7788.000000\n",
       "50%      10595.000000\n",
       "75%      16500.000000\n",
       "max      45400.000000\n",
       "Name: price, dtype: float64"
      ]
     },
     "execution_count": 12,
     "metadata": {},
     "output_type": "execute_result"
    }
   ],
   "source": [
    "#q3 calculate the Minimum Price, Maximum Price, Average Price and Standard Deviation of Price\n",
    "minimum = df['price'].min()\n",
    "print(minimum)\n",
    "\n",
    "maximum = df['price'].max()\n",
    "maximum\n",
    "\n",
    "df['price'].describe()"
   ]
  },
  {
   "cell_type": "code",
   "execution_count": 13,
   "metadata": {},
   "outputs": [
    {
     "data": {
      "image/png": "[encoded data removed]",
      "text/plain": [
       "<Figure size 432x288 with 1 Axes>"
      ]
     },
     "metadata": {},
     "output_type": "display_data"
    }
   ],
   "source": [
    "#q4 Make a pie chart for all car makers\n",
    "df['make'].value_counts().plot(kind='pie')\n",
    "plt.show()\n"
   ]
  }
 ],
 "metadata": {
  "interpreter": {
   "hash": "53b144c10255056ba138318079d6915f61635f604f049884bb1cb292c1bb44d7"
  },
  "kernelspec": {
   "display_name": "Python 3 (ipykernel)",
   "language": "python",
   "name": "python3"
  },
  "language_info": {
   "codemirror_mode": {
    "name": "ipython",
    "version": 3
   },
   "file_extension": ".py",
   "mimetype": "text/x-python",
   "name": "python",
   "nbconvert_exporter": "python",
   "pygments_lexer": "ipython3",
   "version": "3.9.7"
  },
  "toc": {
   "base_numbering": 1,
   "nav_menu": {},
   "number_sections": true,
   "sideBar": true,
   "skip_h1_title": false,
   "title_cell": "Table of Contents",
   "title_sidebar": "Contents",
   "toc_cell": false,
   "toc_position": {},
   "toc_section_display": true,
   "toc_window_display": false
  },
  "varInspector": {
   "cols": {
    "lenName": 16,
    "lenType": 16,
    "lenVar": 40
   },
   "kernels_config": {
    "python": {
     "delete_cmd_postfix": "",
     "delete_cmd_prefix": "del ",
     "library": "var_list.py",
     "varRefreshCmd": "print(var_dic_list())"
    },
    "r": {
     "delete_cmd_postfix": ") ",
     "delete_cmd_prefix": "rm(",
     "library": "var_list.r",
     "varRefreshCmd": "cat(var_dic_list()) "
    }
   },
   "types_to_exclude": [
    "module",
    "function",
    "builtin_function_or_method",
    "instance",
    "_Feature"
   ],
   "window_display": false
  }
 },
 "nbformat": 4,
 "nbformat_minor": 2
}
