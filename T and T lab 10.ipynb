{
 "cells": [
  {
   "cell_type": "markdown",
   "id": "32b2855a",
   "metadata": {},
   "source": [
    "1)WAP in python that uses class to store the name and marks of the students. Use list to store the marks in three subjects."
   ]
  },
  {
   "cell_type": "code",
   "execution_count": 2,
   "id": "b6cd37f7",
   "metadata": {},
   "outputs": [
    {
     "name": "stdout",
     "output_type": "stream",
     "text": [
      "Enter the name of Student:a\n",
      "Enter the marks of a in 1 subject: 90\n",
      "Enter the marks of a in 2 subject: 90\n",
      "Enter the marks of a in 3 subject: 90\n",
      "a got  [90, 90, 90]\n",
      "\n",
      "Enter the name of Student:b\n",
      "Enter the marks of b in 1 subject: 80\n",
      "Enter the marks of b in 2 subject: 80\n",
      "Enter the marks of b in 3 subject: 80\n",
      "b got  [80, 80, 80]\n"
     ]
    }
   ],
   "source": [
    "class students:\n",
    "    count = 0\n",
    "    def __init__(self, name):\n",
    "        self.name = name\n",
    "        self.marks = []\n",
    "        students.count = students.count + 1\n",
    "        \n",
    "    def enterMarks(self):\n",
    "        for i in range(3):\n",
    "            m = int(input(\"Enter the marks of %s in %d subject: \"%(self.name, i+1)))\n",
    "            self.marks.append(m)\n",
    "            \n",
    "    def display(self):\n",
    "        print (self.name, \"got \", self.marks)\n",
    "             \n",
    "name = input(\"Enter the name of Student:\")\n",
    "s1 = students(name)\n",
    "s1.enterMarks()\n",
    "s1.display()\n",
    "print (\"\")\n",
    "name = input(\"Enter the name of Student:\")\n",
    "s2 = students(name)\n",
    "s2.enterMarks()\n",
    "s2.display()"
   ]
  },
  {
   "cell_type": "markdown",
   "id": "07fd03fe",
   "metadata": {},
   "source": [
    "2)WAP in python  with  class  Employee  that  keeps  a  track  of  the  number of employees in an organization and also stores their name, designation and salary details."
   ]
  },
  {
   "cell_type": "code",
   "execution_count": null,
   "id": "15131fcc",
   "metadata": {},
   "outputs": [],
   "source": [
    "class Employee:\n",
    "    count = 0\n",
    "    def __init__(self, name, des, salary):\n",
    "        self.name = name\n",
    "        self.des = des\n",
    "        self.salary = salary\n",
    "        Employee.count = Employee.count + 1\n",
    "    \n",
    "    def displayCount(self):\n",
    "        print(\"The number of employees in the organization are: \", self.count)\n",
    "        \n",
    "    def displayEmp(self):\n",
    "        print (\"Name of Employee is: \", self.name)\n",
    "        print (\"Designation of Employee: \", self.des)\n",
    "        print (\"Salary of Employee: \", self.salary)\n",
    "        \n",
    "e1 = Employee (\"Mahesh\", \"Manager\", 20000)\n",
    "e2 = Employee (\"Rahul\", \"Team Leader\", 30000)\n",
    "\n",
    "e1.displayCount()\n",
    "\n",
    "print(\"Employee Details is: \")\n",
    "\n",
    "e1.displayEmp()\n",
    "e2.displayEmp()"
   ]
  },
  {
   "cell_type": "markdown",
   "id": "6215cf8d",
   "metadata": {},
   "source": [
    "3)WAP in python that has a class Person storing name and date of birth of a person. The program should subtract the date of birth from today’s date to find out that the person is eligible to vote or not."
   ]
  },
  {
   "cell_type": "code",
   "execution_count": null,
   "id": "aadff8f0",
   "metadata": {},
   "outputs": [],
   "source": []
  },
  {
   "cell_type": "markdown",
   "id": "b908b913",
   "metadata": {},
   "source": [
    "4)WAP in python that has a class Circle. Use a class variable that defines the value of constant Pie value=3.14. Use    this class\tvariable  to calculate the area  and  circumference of the circle with specified radius.\n"
   ]
  },
  {
   "cell_type": "code",
   "execution_count": 3,
   "id": "c94ede42",
   "metadata": {},
   "outputs": [
    {
     "name": "stdout",
     "output_type": "stream",
     "text": [
      "Enter the radius of circle3\n",
      "The area of C1 circle is:  28.278\n",
      "Circumference of C1 Circle is:  18.852\n",
      "\n",
      "Enter the radius of circle4\n",
      "Area of C1 circle is:  50.272\n",
      "Circumference of C1 Circle is:  25.136\n"
     ]
    }
   ],
   "source": [
    "class Circle:\n",
    "    PI = 3.142\n",
    "    \n",
    "    def __init__(self, radius):\n",
    "        self.radius = radius\n",
    "        \n",
    "    def area (self):\n",
    "        return (Circle.PI * self.radius * self.radius)\n",
    "    \n",
    "    def circumference(self):\n",
    "        return (2 * Circle.PI * self.radius)\n",
    "\n",
    "r = int(input(\"Enter the radius of circle\"))\n",
    "c1 = Circle(r)\n",
    "print (\"The area of C1 circle is: \", c1.area())\n",
    "print (\"Circumference of C1 Circle is: \", c1.circumference())\n",
    "print(\"\")\n",
    "r = int(input(\"Enter the radius of circle\"))\n",
    "c2 = Circle(r)\n",
    "print (\"Area of C1 circle is: \", c2.area())\n",
    "print (\"Circumference of C1 Circle is: \", c2.circumference())"
   ]
  },
  {
   "cell_type": "markdown",
   "id": "237da969",
   "metadata": {},
   "source": [
    "5)WAP in python that has a class Student that stores the name ,roll no, marks(in three subjects). And display the information(name, roll no, total marks) stored about the students."
   ]
  },
  {
   "cell_type": "code",
   "execution_count": 5,
   "id": "b99a2b83",
   "metadata": {},
   "outputs": [
    {
     "name": "stdout",
     "output_type": "stream",
     "text": [
      "Enter the roll number: 20\n",
      "Enter the name: a\n",
      "Enter the marks in the first subject: 30\n",
      "Enter the marks in the second subject: 30\n",
      "Enter the marks in the third subject: 30\n",
      "Roll Number is:  20\n",
      "Name is:  a\n",
      "Marks are:  [30, 30, 30]\n"
     ]
    }
   ],
   "source": [
    "class Student:\n",
    "    marks = []\n",
    "    def getData(self, rn, name, m1, m2, m3):\n",
    "        Student.rn = rn\n",
    "        Student.name = name\n",
    "        Student.marks.append(m1)\n",
    "        Student.marks.append(m2)\n",
    "        Student.marks.append(m3)\n",
    "        \n",
    "    def displayData(self):\n",
    "        print (\"Roll Number is: \", Student.rn)\n",
    "        print (\"Name is: \", Student.name)\n",
    "        #print (\"Marks in subject 1: \", Student.marks[0])\n",
    "        #print (\"Marks in subject 2: \", Student.marks[1])\n",
    "        #print (\"Marks in subject 3: \", Student.marks[2])\n",
    "        print (\"Marks are: \", Student.marks)\n",
    "\n",
    "    \n",
    "r = int (input(\"Enter the roll number: \"))\n",
    "name = input(\"Enter the name: \")\n",
    "m1 = int (input(\"Enter the marks in the first subject: \"))\n",
    "m2 = int (input(\"Enter the marks in the second subject: \"))\n",
    "m3 = int (input(\"Enter the marks in the third subject: \"))\n",
    "\n",
    "s1 = Student()\n",
    "s1.getData(r, name, m1, m2, m3)\n",
    "s1.displayData()"
   ]
  },
  {
   "cell_type": "markdown",
   "id": "8d07be76",
   "metadata": {},
   "source": [
    "6)WAP in python that has a class Rectangle with attribute length and breadth and a method area that returns the area of the rectangle."
   ]
  },
  {
   "cell_type": "code",
   "execution_count": 6,
   "id": "cbe8b3ea",
   "metadata": {},
   "outputs": [
    {
     "name": "stdout",
     "output_type": "stream",
     "text": [
      "Enter length of rectangle: 30\n",
      "Enter breadth of rectangle: 20\n",
      "Area of rectangle: 600\n"
     ]
    }
   ],
   "source": [
    "class Rectangle:\n",
    "    def __init__(self, length, breadth):\n",
    "        self.length = length\n",
    "        self.breadth = breadth\n",
    "\n",
    "    def area(self):\n",
    "        return self.length * self.breadth\n",
    "\n",
    "\n",
    "a = int(input(\"Enter length of rectangle: \"))\n",
    "b = int(input(\"Enter breadth of rectangle: \"))\n",
    "obj = Rectangle(a, b)\n",
    "print(\"Area of rectangle:\", obj.area())"
   ]
  },
  {
   "cell_type": "markdown",
   "id": "91aeece4",
   "metadata": {},
   "source": [
    "7)WAP\tin\tpython\tthat\thas\ta\tclass\tFraction\twith\tattributes\tnumerator and\tdenominator.  Enter  the  values  to  the attributes and\tprint the function  in  simplified forms."
   ]
  },
  {
   "cell_type": "code",
   "execution_count": null,
   "id": "78430720",
   "metadata": {},
   "outputs": [],
   "source": []
  },
  {
   "cell_type": "markdown",
   "id": "42fd6d80",
   "metadata": {},
   "source": [
    "8)WAP in python that has an abstract class Polygon. Derive two classes Rectangle and Triangle from polygon and write methods to get the details of their dimensions and hence calculate the area"
   ]
  },
  {
   "cell_type": "code",
   "execution_count": 22,
   "id": "df6a2fc7",
   "metadata": {},
   "outputs": [
    {
     "name": "stdout",
     "output_type": "stream",
     "text": [
      "area of triangle is:  75.0\n",
      "area of rectangle is:  150\n",
      "I have 3 sides \n",
      "base is: 10 \n",
      "heigth is: 10 \n",
      "I have 4 sides\n",
      "length is: 10 \n",
      "breadth is: 15 \n"
     ]
    }
   ],
   "source": [
    "from abc import ABC, abstractmethod\n",
    " \n",
    "class Polygon(ABC):\n",
    " \n",
    "    @abstractmethod\n",
    "    def noofsides(self):\n",
    "        pass\n",
    " \n",
    "class Triangle(Polygon):\n",
    " \n",
    "    # overriding abstract method\n",
    "    def noofsides(self):\n",
    "        print(\"I have 3 sides \")\n",
    "        print(\"base is: 10 \")\n",
    "        print(\"heigth is: 10 \")\n",
    "    def get_area(base, height):\n",
    "       return 0.5 * base * height\n",
    "    print(\"area of triangle is: \",get_area(10, 15))\n",
    " \n",
    " \n",
    "class rectangle(Polygon):\n",
    " \n",
    "    # overriding abstract method\n",
    "    def noofsides(self):\n",
    "        print(\"I have 4 sides\")\n",
    "        print(\"length is: 10 \")\n",
    "        print(\"breadth is: 15 \")\n",
    "    def get_area(length , breadth):\n",
    "       return length * breadth\n",
    "    print(\"area of rectangle is: \",get_area(10, 15))\n",
    "\n",
    "R = Triangle()\n",
    "R.noofsides()\n",
    " \n",
    "K = rectangle()\n",
    "K.noofsides()"
   ]
  },
  {
   "cell_type": "markdown",
   "id": "ac2bbf1a",
   "metadata": {},
   "source": [
    "9)WAP in python with class Bill. The users have the option to pay the bill by card or by cash. Use the inheritance to model this situation."
   ]
  },
  {
   "cell_type": "code",
   "execution_count": null,
   "id": "72f8a5f0",
   "metadata": {},
   "outputs": [],
   "source": []
  },
  {
   "cell_type": "markdown",
   "id": "14993321",
   "metadata": {},
   "source": [
    "10)WAP in python has a class Person. Inherit a  class Faculty from person which  also have a class publications."
   ]
  },
  {
   "cell_type": "code",
   "execution_count": null,
   "id": "90959023",
   "metadata": {},
   "outputs": [],
   "source": []
  }
 ],
 "metadata": {
  "kernelspec": {
   "display_name": "Python 3 (ipykernel)",
   "language": "python",
   "name": "python3"
  },
  "language_info": {
   "codemirror_mode": {
    "name": "ipython",
    "version": 3
   },
   "file_extension": ".py",
   "mimetype": "text/x-python",
   "name": "python",
   "nbconvert_exporter": "python",
   "pygments_lexer": "ipython3",
   "version": "3.9.7"
  }
 },
 "nbformat": 4,
 "nbformat_minor": 5
}
